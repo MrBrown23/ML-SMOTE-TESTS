{
 "cells": [
  {
   "cell_type": "markdown",
   "id": "2d6ee5af",
   "metadata": {},
   "source": [
    "# Importing Data"
   ]
  },
  {
   "cell_type": "code",
   "execution_count": 1,
   "id": "147093d8",
   "metadata": {},
   "outputs": [
    {
     "name": "stdout",
     "output_type": "stream",
     "text": [
      "Original dataset shape: (303, 14)\n"
     ]
    }
   ],
   "source": [
    "import pandas as pd\n",
    "import numpy as np\n",
    "\n",
    "\n",
    "df = pd.read_csv('heart.csv')\n",
    "\n",
    "\n",
    "print(\"Original dataset shape:\", df.shape)"
   ]
  },
  {
   "cell_type": "markdown",
   "id": "00ec593b",
   "metadata": {},
   "source": [
    "# Removing some data"
   ]
  },
  {
   "cell_type": "code",
   "execution_count": 2,
   "id": "5acb78cd",
   "metadata": {},
   "outputs": [],
   "source": [
    "columns_to_unbalance = ['age', 'thalachh', 'chol', 'oldpeak', 'trtbps']"
   ]
  },
  {
   "cell_type": "code",
   "execution_count": 3,
   "id": "ced2e8d7",
   "metadata": {},
   "outputs": [],
   "source": [
    "for col in columns_to_unbalance:\n",
    "    for i in range(np.random.randint(70,100)):\n",
    "        random_row_index = np.random.choice(df.index)\n",
    "        df.loc[random_row_index, col] = np.nan"
   ]
  },
  {
   "cell_type": "code",
   "execution_count": 4,
   "id": "a12b03c2",
   "metadata": {
    "scrolled": true
   },
   "outputs": [
    {
     "name": "stdout",
     "output_type": "stream",
     "text": [
      "age         64\n",
      "sex          0\n",
      "cp           0\n",
      "trtbps      79\n",
      "chol        65\n",
      "fbs          0\n",
      "restecg      0\n",
      "thalachh    71\n",
      "exng         0\n",
      "oldpeak     85\n",
      "slp          0\n",
      "caa          0\n",
      "thall        0\n",
      "output       0\n",
      "dtype: int64\n"
     ]
    }
   ],
   "source": [
    "missing_val_count_by_column = (df.isnull().sum())\n",
    "print(missing_val_count_by_column)"
   ]
  },
  {
   "cell_type": "code",
   "execution_count": 5,
   "id": "f313eaf4",
   "metadata": {},
   "outputs": [],
   "source": [
    "df.to_csv('heart_unbalanced.csv', index=False)"
   ]
  },
  {
   "cell_type": "markdown",
   "id": "6246862b",
   "metadata": {},
   "source": [
    "# Method 1:\n",
    "\n",
    "# Dropping columns"
   ]
  },
  {
   "cell_type": "code",
   "execution_count": 6,
   "id": "c5cac527",
   "metadata": {},
   "outputs": [],
   "source": [
    "dfp = df"
   ]
  },
  {
   "cell_type": "code",
   "execution_count": 7,
   "id": "0c736dde",
   "metadata": {},
   "outputs": [],
   "source": [
    "columns_to_drop = ['age', 'thalachh', 'chol', 'oldpeak', 'trtbps']\n",
    "dfp.drop(columns=columns_to_drop, inplace=True)"
   ]
  },
  {
   "cell_type": "code",
   "execution_count": 8,
   "id": "25613d87",
   "metadata": {},
   "outputs": [
    {
     "data": {
      "text/html": [
       "<div>\n",
       "<style scoped>\n",
       "    .dataframe tbody tr th:only-of-type {\n",
       "        vertical-align: middle;\n",
       "    }\n",
       "\n",
       "    .dataframe tbody tr th {\n",
       "        vertical-align: top;\n",
       "    }\n",
       "\n",
       "    .dataframe thead th {\n",
       "        text-align: right;\n",
       "    }\n",
       "</style>\n",
       "<table border=\"1\" class=\"dataframe\">\n",
       "  <thead>\n",
       "    <tr style=\"text-align: right;\">\n",
       "      <th></th>\n",
       "      <th>sex</th>\n",
       "      <th>cp</th>\n",
       "      <th>fbs</th>\n",
       "      <th>restecg</th>\n",
       "      <th>exng</th>\n",
       "      <th>slp</th>\n",
       "      <th>caa</th>\n",
       "      <th>thall</th>\n",
       "      <th>output</th>\n",
       "    </tr>\n",
       "  </thead>\n",
       "  <tbody>\n",
       "    <tr>\n",
       "      <th>0</th>\n",
       "      <td>1</td>\n",
       "      <td>3</td>\n",
       "      <td>1</td>\n",
       "      <td>0</td>\n",
       "      <td>0</td>\n",
       "      <td>0</td>\n",
       "      <td>0</td>\n",
       "      <td>1</td>\n",
       "      <td>1</td>\n",
       "    </tr>\n",
       "    <tr>\n",
       "      <th>1</th>\n",
       "      <td>1</td>\n",
       "      <td>2</td>\n",
       "      <td>0</td>\n",
       "      <td>1</td>\n",
       "      <td>0</td>\n",
       "      <td>0</td>\n",
       "      <td>0</td>\n",
       "      <td>2</td>\n",
       "      <td>1</td>\n",
       "    </tr>\n",
       "    <tr>\n",
       "      <th>2</th>\n",
       "      <td>0</td>\n",
       "      <td>1</td>\n",
       "      <td>0</td>\n",
       "      <td>0</td>\n",
       "      <td>0</td>\n",
       "      <td>2</td>\n",
       "      <td>0</td>\n",
       "      <td>2</td>\n",
       "      <td>1</td>\n",
       "    </tr>\n",
       "    <tr>\n",
       "      <th>3</th>\n",
       "      <td>1</td>\n",
       "      <td>1</td>\n",
       "      <td>0</td>\n",
       "      <td>1</td>\n",
       "      <td>0</td>\n",
       "      <td>2</td>\n",
       "      <td>0</td>\n",
       "      <td>2</td>\n",
       "      <td>1</td>\n",
       "    </tr>\n",
       "    <tr>\n",
       "      <th>4</th>\n",
       "      <td>0</td>\n",
       "      <td>0</td>\n",
       "      <td>0</td>\n",
       "      <td>1</td>\n",
       "      <td>1</td>\n",
       "      <td>2</td>\n",
       "      <td>0</td>\n",
       "      <td>2</td>\n",
       "      <td>1</td>\n",
       "    </tr>\n",
       "    <tr>\n",
       "      <th>...</th>\n",
       "      <td>...</td>\n",
       "      <td>...</td>\n",
       "      <td>...</td>\n",
       "      <td>...</td>\n",
       "      <td>...</td>\n",
       "      <td>...</td>\n",
       "      <td>...</td>\n",
       "      <td>...</td>\n",
       "      <td>...</td>\n",
       "    </tr>\n",
       "    <tr>\n",
       "      <th>298</th>\n",
       "      <td>0</td>\n",
       "      <td>0</td>\n",
       "      <td>0</td>\n",
       "      <td>1</td>\n",
       "      <td>1</td>\n",
       "      <td>1</td>\n",
       "      <td>0</td>\n",
       "      <td>3</td>\n",
       "      <td>0</td>\n",
       "    </tr>\n",
       "    <tr>\n",
       "      <th>299</th>\n",
       "      <td>1</td>\n",
       "      <td>3</td>\n",
       "      <td>0</td>\n",
       "      <td>1</td>\n",
       "      <td>0</td>\n",
       "      <td>1</td>\n",
       "      <td>0</td>\n",
       "      <td>3</td>\n",
       "      <td>0</td>\n",
       "    </tr>\n",
       "    <tr>\n",
       "      <th>300</th>\n",
       "      <td>1</td>\n",
       "      <td>0</td>\n",
       "      <td>1</td>\n",
       "      <td>1</td>\n",
       "      <td>0</td>\n",
       "      <td>1</td>\n",
       "      <td>2</td>\n",
       "      <td>3</td>\n",
       "      <td>0</td>\n",
       "    </tr>\n",
       "    <tr>\n",
       "      <th>301</th>\n",
       "      <td>1</td>\n",
       "      <td>0</td>\n",
       "      <td>0</td>\n",
       "      <td>1</td>\n",
       "      <td>1</td>\n",
       "      <td>1</td>\n",
       "      <td>1</td>\n",
       "      <td>3</td>\n",
       "      <td>0</td>\n",
       "    </tr>\n",
       "    <tr>\n",
       "      <th>302</th>\n",
       "      <td>0</td>\n",
       "      <td>1</td>\n",
       "      <td>0</td>\n",
       "      <td>0</td>\n",
       "      <td>0</td>\n",
       "      <td>1</td>\n",
       "      <td>1</td>\n",
       "      <td>2</td>\n",
       "      <td>0</td>\n",
       "    </tr>\n",
       "  </tbody>\n",
       "</table>\n",
       "<p>303 rows × 9 columns</p>\n",
       "</div>"
      ],
      "text/plain": [
       "     sex  cp  fbs  restecg  exng  slp  caa  thall  output\n",
       "0      1   3    1        0     0    0    0      1       1\n",
       "1      1   2    0        1     0    0    0      2       1\n",
       "2      0   1    0        0     0    2    0      2       1\n",
       "3      1   1    0        1     0    2    0      2       1\n",
       "4      0   0    0        1     1    2    0      2       1\n",
       "..   ...  ..  ...      ...   ...  ...  ...    ...     ...\n",
       "298    0   0    0        1     1    1    0      3       0\n",
       "299    1   3    0        1     0    1    0      3       0\n",
       "300    1   0    1        1     0    1    2      3       0\n",
       "301    1   0    0        1     1    1    1      3       0\n",
       "302    0   1    0        0     0    1    1      2       0\n",
       "\n",
       "[303 rows x 9 columns]"
      ]
     },
     "execution_count": 8,
     "metadata": {},
     "output_type": "execute_result"
    }
   ],
   "source": [
    "dfp"
   ]
  },
  {
   "cell_type": "code",
   "execution_count": 9,
   "id": "7bc98487",
   "metadata": {},
   "outputs": [],
   "source": [
    "dfp.to_csv('heart_dropped_cols.csv', index=False)"
   ]
  },
  {
   "cell_type": "markdown",
   "id": "32f8227d",
   "metadata": {},
   "source": [
    "# Method 2\n",
    "\n",
    "# Replacing messing data"
   ]
  },
  {
   "cell_type": "code",
   "execution_count": 10,
   "id": "7dfe58d3",
   "metadata": {},
   "outputs": [
    {
     "data": {
      "text/html": [
       "<div>\n",
       "<style scoped>\n",
       "    .dataframe tbody tr th:only-of-type {\n",
       "        vertical-align: middle;\n",
       "    }\n",
       "\n",
       "    .dataframe tbody tr th {\n",
       "        vertical-align: top;\n",
       "    }\n",
       "\n",
       "    .dataframe thead th {\n",
       "        text-align: right;\n",
       "    }\n",
       "</style>\n",
       "<table border=\"1\" class=\"dataframe\">\n",
       "  <thead>\n",
       "    <tr style=\"text-align: right;\">\n",
       "      <th></th>\n",
       "      <th>sex</th>\n",
       "      <th>cp</th>\n",
       "      <th>fbs</th>\n",
       "      <th>restecg</th>\n",
       "      <th>exng</th>\n",
       "      <th>slp</th>\n",
       "      <th>caa</th>\n",
       "      <th>thall</th>\n",
       "      <th>output</th>\n",
       "    </tr>\n",
       "  </thead>\n",
       "  <tbody>\n",
       "    <tr>\n",
       "      <th>0</th>\n",
       "      <td>1</td>\n",
       "      <td>3</td>\n",
       "      <td>1</td>\n",
       "      <td>0</td>\n",
       "      <td>0</td>\n",
       "      <td>0</td>\n",
       "      <td>0</td>\n",
       "      <td>1</td>\n",
       "      <td>1</td>\n",
       "    </tr>\n",
       "    <tr>\n",
       "      <th>1</th>\n",
       "      <td>1</td>\n",
       "      <td>2</td>\n",
       "      <td>0</td>\n",
       "      <td>1</td>\n",
       "      <td>0</td>\n",
       "      <td>0</td>\n",
       "      <td>0</td>\n",
       "      <td>2</td>\n",
       "      <td>1</td>\n",
       "    </tr>\n",
       "    <tr>\n",
       "      <th>2</th>\n",
       "      <td>0</td>\n",
       "      <td>1</td>\n",
       "      <td>0</td>\n",
       "      <td>0</td>\n",
       "      <td>0</td>\n",
       "      <td>2</td>\n",
       "      <td>0</td>\n",
       "      <td>2</td>\n",
       "      <td>1</td>\n",
       "    </tr>\n",
       "    <tr>\n",
       "      <th>3</th>\n",
       "      <td>1</td>\n",
       "      <td>1</td>\n",
       "      <td>0</td>\n",
       "      <td>1</td>\n",
       "      <td>0</td>\n",
       "      <td>2</td>\n",
       "      <td>0</td>\n",
       "      <td>2</td>\n",
       "      <td>1</td>\n",
       "    </tr>\n",
       "    <tr>\n",
       "      <th>4</th>\n",
       "      <td>0</td>\n",
       "      <td>0</td>\n",
       "      <td>0</td>\n",
       "      <td>1</td>\n",
       "      <td>1</td>\n",
       "      <td>2</td>\n",
       "      <td>0</td>\n",
       "      <td>2</td>\n",
       "      <td>1</td>\n",
       "    </tr>\n",
       "    <tr>\n",
       "      <th>...</th>\n",
       "      <td>...</td>\n",
       "      <td>...</td>\n",
       "      <td>...</td>\n",
       "      <td>...</td>\n",
       "      <td>...</td>\n",
       "      <td>...</td>\n",
       "      <td>...</td>\n",
       "      <td>...</td>\n",
       "      <td>...</td>\n",
       "    </tr>\n",
       "    <tr>\n",
       "      <th>298</th>\n",
       "      <td>0</td>\n",
       "      <td>0</td>\n",
       "      <td>0</td>\n",
       "      <td>1</td>\n",
       "      <td>1</td>\n",
       "      <td>1</td>\n",
       "      <td>0</td>\n",
       "      <td>3</td>\n",
       "      <td>0</td>\n",
       "    </tr>\n",
       "    <tr>\n",
       "      <th>299</th>\n",
       "      <td>1</td>\n",
       "      <td>3</td>\n",
       "      <td>0</td>\n",
       "      <td>1</td>\n",
       "      <td>0</td>\n",
       "      <td>1</td>\n",
       "      <td>0</td>\n",
       "      <td>3</td>\n",
       "      <td>0</td>\n",
       "    </tr>\n",
       "    <tr>\n",
       "      <th>300</th>\n",
       "      <td>1</td>\n",
       "      <td>0</td>\n",
       "      <td>1</td>\n",
       "      <td>1</td>\n",
       "      <td>0</td>\n",
       "      <td>1</td>\n",
       "      <td>2</td>\n",
       "      <td>3</td>\n",
       "      <td>0</td>\n",
       "    </tr>\n",
       "    <tr>\n",
       "      <th>301</th>\n",
       "      <td>1</td>\n",
       "      <td>0</td>\n",
       "      <td>0</td>\n",
       "      <td>1</td>\n",
       "      <td>1</td>\n",
       "      <td>1</td>\n",
       "      <td>1</td>\n",
       "      <td>3</td>\n",
       "      <td>0</td>\n",
       "    </tr>\n",
       "    <tr>\n",
       "      <th>302</th>\n",
       "      <td>0</td>\n",
       "      <td>1</td>\n",
       "      <td>0</td>\n",
       "      <td>0</td>\n",
       "      <td>0</td>\n",
       "      <td>1</td>\n",
       "      <td>1</td>\n",
       "      <td>2</td>\n",
       "      <td>0</td>\n",
       "    </tr>\n",
       "  </tbody>\n",
       "</table>\n",
       "<p>303 rows × 9 columns</p>\n",
       "</div>"
      ],
      "text/plain": [
       "     sex  cp  fbs  restecg  exng  slp  caa  thall  output\n",
       "0      1   3    1        0     0    0    0      1       1\n",
       "1      1   2    0        1     0    0    0      2       1\n",
       "2      0   1    0        0     0    2    0      2       1\n",
       "3      1   1    0        1     0    2    0      2       1\n",
       "4      0   0    0        1     1    2    0      2       1\n",
       "..   ...  ..  ...      ...   ...  ...  ...    ...     ...\n",
       "298    0   0    0        1     1    1    0      3       0\n",
       "299    1   3    0        1     0    1    0      3       0\n",
       "300    1   0    1        1     0    1    2      3       0\n",
       "301    1   0    0        1     1    1    1      3       0\n",
       "302    0   1    0        0     0    1    1      2       0\n",
       "\n",
       "[303 rows x 9 columns]"
      ]
     },
     "execution_count": 10,
     "metadata": {},
     "output_type": "execute_result"
    }
   ],
   "source": [
    "df"
   ]
  },
  {
   "cell_type": "code",
   "execution_count": 11,
   "id": "f6722149",
   "metadata": {},
   "outputs": [
    {
     "name": "stdout",
     "output_type": "stream",
     "text": [
      "sex        0\n",
      "cp         0\n",
      "fbs        0\n",
      "restecg    0\n",
      "exng       0\n",
      "slp        0\n",
      "caa        0\n",
      "thall      0\n",
      "output     0\n",
      "dtype: int64\n"
     ]
    }
   ],
   "source": [
    "missing_val_count_by_column = (df.isnull().sum())\n",
    "print(missing_val_count_by_column)"
   ]
  },
  {
   "cell_type": "code",
   "execution_count": 12,
   "id": "e4cbe9af",
   "metadata": {
    "scrolled": true
   },
   "outputs": [
    {
     "name": "stdout",
     "output_type": "stream",
     "text": [
      "Dataset Info Before Imputation:\n",
      "<class 'pandas.core.frame.DataFrame'>\n",
      "RangeIndex: 303 entries, 0 to 302\n",
      "Data columns (total 14 columns):\n",
      " #   Column    Non-Null Count  Dtype  \n",
      "---  ------    --------------  -----  \n",
      " 0   age       239 non-null    float64\n",
      " 1   sex       303 non-null    int64  \n",
      " 2   cp        303 non-null    int64  \n",
      " 3   trtbps    224 non-null    float64\n",
      " 4   chol      238 non-null    float64\n",
      " 5   fbs       303 non-null    int64  \n",
      " 6   restecg   303 non-null    int64  \n",
      " 7   thalachh  232 non-null    float64\n",
      " 8   exng      303 non-null    int64  \n",
      " 9   oldpeak   218 non-null    float64\n",
      " 10  slp       303 non-null    int64  \n",
      " 11  caa       303 non-null    int64  \n",
      " 12  thall     303 non-null    int64  \n",
      " 13  output    303 non-null    int64  \n",
      "dtypes: float64(5), int64(9)\n",
      "memory usage: 33.3 KB\n",
      "None\n"
     ]
    }
   ],
   "source": [
    "import pandas as pd\n",
    "from sklearn.impute import SimpleImputer\n",
    "\n",
    "\n",
    "df = pd.read_csv('heart_unbalanced.csv')\n",
    "\n",
    "print(\"Dataset Info Before Imputation:\")\n",
    "print(df.info())\n",
    "\n"
   ]
  },
  {
   "cell_type": "markdown",
   "id": "3c09ef0a",
   "metadata": {},
   "source": [
    "# Using Mean, median, most frequent and constant technique"
   ]
  },
  {
   "cell_type": "code",
   "execution_count": 13,
   "id": "a021ff6b",
   "metadata": {},
   "outputs": [],
   "source": [
    "imputer_mean = SimpleImputer(strategy='mean')\n",
    "imputer_median = SimpleImputer(strategy='median')\n",
    "imputer_most_frequent = SimpleImputer(strategy='most_frequent')\n",
    "imputer_constant = SimpleImputer(strategy='constant', fill_value=0)  \n",
    "\n",
    "df_mean = pd.DataFrame(imputer_mean.fit_transform(df), columns=df.columns)\n",
    "df_median = pd.DataFrame(imputer_median.fit_transform(df), columns=df.columns)\n",
    "df_most_frequent = pd.DataFrame(imputer_most_frequent.fit_transform(df), columns=df.columns)\n",
    "df_constant = pd.DataFrame(imputer_constant.fit_transform(df), columns=df.columns)\n",
    "\n",
    "\n",
    "df_mean.to_csv('heart_imputed_mean.csv', index=False)\n",
    "df_median.to_csv('heart_imputed_median.csv', index=False)\n",
    "df_most_frequent.to_csv('heart_imputed_most_frequent.csv', index=False)\n",
    "df_constant.to_csv('heart_imputed_constant.csv', index=False)\n"
   ]
  },
  {
   "cell_type": "markdown",
   "id": "695fa07a",
   "metadata": {},
   "source": [
    "# Using KNN technique"
   ]
  },
  {
   "cell_type": "code",
   "execution_count": 14,
   "id": "8943e7a6",
   "metadata": {},
   "outputs": [],
   "source": [
    "from sklearn.impute import KNNImputer"
   ]
  },
  {
   "cell_type": "code",
   "execution_count": 15,
   "id": "7b169531",
   "metadata": {},
   "outputs": [],
   "source": [
    "imputer_knn = KNNImputer()\n",
    "\n",
    "df_knn = pd.DataFrame(imputer_knn.fit_transform(df), columns=df.columns)\n",
    "\n",
    "df_knn.to_csv('heart_imputed_knn.csv', index=False)"
   ]
  },
  {
   "cell_type": "code",
   "execution_count": null,
   "id": "47c9cce5",
   "metadata": {},
   "outputs": [],
   "source": []
  }
 ],
 "metadata": {
  "kernelspec": {
   "display_name": "Python 3 (ipykernel)",
   "language": "python",
   "name": "python3"
  },
  "language_info": {
   "codemirror_mode": {
    "name": "ipython",
    "version": 3
   },
   "file_extension": ".py",
   "mimetype": "text/x-python",
   "name": "python",
   "nbconvert_exporter": "python",
   "pygments_lexer": "ipython3",
   "version": "3.8.10"
  }
 },
 "nbformat": 4,
 "nbformat_minor": 5
}
